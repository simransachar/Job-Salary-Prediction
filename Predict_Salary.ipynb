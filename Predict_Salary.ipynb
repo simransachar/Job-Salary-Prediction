{
 "cells": [
  {
   "cell_type": "markdown",
   "metadata": {},
   "source": [
    "# Digging Into Data - Predict_Salary"
   ]
  },
  {
   "cell_type": "code",
   "execution_count": 1,
   "metadata": {
    "collapsed": false
   },
   "outputs": [],
   "source": [
    "%matplotlib inline\n",
    "\n",
    "import data_io\n",
    "import matplotlib.pyplot as plt\n",
    "import numpy as np\n",
    "import pickle\n",
    "import pandas as pd\n",
    "from sklearn.ensemble import RandomForestRegressor,RandomForestClassifier,ExtraTreesRegressor,ExtraTreesClassifier\n",
    "from sklearn.tree import ExtraTreeRegressor\n",
    "from sklearn.naive_bayes import MultinomialNB\n",
    "from sklearn.svm import SVC\n",
    "from sklearn import linear_model\n",
    "from sklearn.feature_extraction.text import CountVectorizer\n",
    "from sklearn.pipeline import Pipeline\n",
    "from sklearn.metrics import mean_absolute_error,mean_squared_error,confusion_matrix,accuracy_score,classification_report"
   ]
  },
  {
   "cell_type": "markdown",
   "metadata": {},
   "source": [
    "#### The below code is adding salary bins to the train data set."
   ]
  },
  {
   "cell_type": "code",
   "execution_count": 2,
   "metadata": {
    "collapsed": false
   },
   "outputs": [],
   "source": [
    "jobs_df = pd.read_csv('train-cedited.csv')"
   ]
  },
  {
   "cell_type": "code",
   "execution_count": 3,
   "metadata": {
    "collapsed": false
   },
   "outputs": [],
   "source": [
    "jobs_df['Salary_Range'] = \"NA\"\n",
    "def func(row):\n",
    "    if row['SalaryNormalized'] > 0 and row['SalaryNormalized'] < 20000:\n",
    "        return '<20000'\n",
    "    elif row['SalaryNormalized'] >= 20000  and row['SalaryNormalized'] < 27500:\n",
    "        return '20001-27500'\n",
    "    elif row['SalaryNormalized'] >= 27500  and row['SalaryNormalized'] < 37500:\n",
    "        return '27500-37500'\n",
    "    elif row['SalaryNormalized'] >= 37500  and row['SalaryNormalized'] < 60000:\n",
    "        return '37500-60000'\n",
    "    elif row['SalaryNormalized'] >= 60000:\n",
    "        return '60000+'\n",
    "    elif row['SalaryNormalized'] <= 0:\n",
    "        return 'NA'\n",
    "    else:\n",
    "        return 'other'\n",
    "jobs_df['Salary_Range'] = jobs_df.apply(func, axis=1)\n",
    "jobs_df = jobs_df[jobs_df.Salary_Range != 'NA']"
   ]
  },
  {
   "cell_type": "markdown",
   "metadata": {},
   "source": [
    "#### Created Histogram for SalaryNormalized"
   ]
  },
  {
   "cell_type": "code",
   "execution_count": 5,
   "metadata": {
    "collapsed": false
   },
   "outputs": [
    {
     "data": {
      "text/plain": [
       "<matplotlib.axes._subplots.AxesSubplot at 0x2083d908>"
      ]
     },
     "execution_count": 5,
     "metadata": {},
     "output_type": "execute_result"
    },
    {
     "data": {
      "image/png": "[encoded data removed]",
      "text/plain": [
       "<matplotlib.figure.Figure at 0x208477f0>"
      ]
     },
     "metadata": {},
     "output_type": "display_data"
    }
   ],
   "source": [
    "from seaborn import *\n",
    "jobs_df['SalaryNormalized'].plot(kind='hist', alpha=0.5)"
   ]
  },
  {
   "cell_type": "code",
   "execution_count": 6,
   "metadata": {
    "collapsed": false
   },
   "outputs": [
    {
     "data": {
      "text/html": [
       "<div>\n",
       "<table border=\"1\" class=\"dataframe\">\n",
       "  <thead>\n",
       "    <tr style=\"text-align: right;\">\n",
       "      <th></th>\n",
       "      <th>Id</th>\n",
       "      <th>SalaryNormalized</th>\n",
       "    </tr>\n",
       "  </thead>\n",
       "  <tbody>\n",
       "    <tr>\n",
       "      <th>count</th>\n",
       "      <td>10000.000000</td>\n",
       "      <td>10000.000000</td>\n",
       "    </tr>\n",
       "    <tr>\n",
       "      <th>mean</th>\n",
       "      <td>58883558.683700</td>\n",
       "      <td>31522.615600</td>\n",
       "    </tr>\n",
       "    <tr>\n",
       "      <th>std</th>\n",
       "      <td>7383340.440499</td>\n",
       "      <td>16153.358741</td>\n",
       "    </tr>\n",
       "    <tr>\n",
       "      <th>min</th>\n",
       "      <td>12612628.000000</td>\n",
       "      <td>5184.000000</td>\n",
       "    </tr>\n",
       "    <tr>\n",
       "      <th>25%</th>\n",
       "      <td>55408410.500000</td>\n",
       "      <td>20648.500000</td>\n",
       "    </tr>\n",
       "    <tr>\n",
       "      <th>50%</th>\n",
       "      <td>62005797.500000</td>\n",
       "      <td>27500.000000</td>\n",
       "    </tr>\n",
       "    <tr>\n",
       "      <th>75%</th>\n",
       "      <td>64796514.250000</td>\n",
       "      <td>37500.000000</td>\n",
       "    </tr>\n",
       "    <tr>\n",
       "      <th>max</th>\n",
       "      <td>66190737.000000</td>\n",
       "      <td>172800.000000</td>\n",
       "    </tr>\n",
       "  </tbody>\n",
       "</table>\n",
       "</div>"
      ],
      "text/plain": [
       "                    Id  SalaryNormalized\n",
       "count     10000.000000      10000.000000\n",
       "mean   58883558.683700      31522.615600\n",
       "std     7383340.440499      16153.358741\n",
       "min    12612628.000000       5184.000000\n",
       "25%    55408410.500000      20648.500000\n",
       "50%    62005797.500000      27500.000000\n",
       "75%    64796514.250000      37500.000000\n",
       "max    66190737.000000     172800.000000"
      ]
     },
     "execution_count": 6,
     "metadata": {},
     "output_type": "execute_result"
    }
   ],
   "source": [
    "jobs_df.describe()"
   ]
  },
  {
   "cell_type": "markdown",
   "metadata": {},
   "source": [
    "#### Create bar chart for salary range vs number of job ads"
   ]
  },
  {
   "cell_type": "code",
   "execution_count": 8,
   "metadata": {
    "collapsed": false
   },
   "outputs": [
    {
     "data": {
      "text/plain": [
       "<matplotlib.axes._subplots.AxesSubplot at 0x20d2bba8>"
      ]
     },
     "execution_count": 8,
     "metadata": {},
     "output_type": "execute_result"
    },
    {
     "data": {
      "image/png": "[encoded data removed]",
      "text/plain": [
       "<matplotlib.figure.Figure at 0x20e34cc0>"
      ]
     },
     "metadata": {},
     "output_type": "display_data"
    }
   ],
   "source": [
    "counts = jobs_df['Salary_Range'].value_counts()\n",
    "counts.plot(kind='bar')"
   ]
  },
  {
   "cell_type": "markdown",
   "metadata": {},
   "source": [
    "#### Created a bar chart for average salaries for each category"
   ]
  },
  {
   "cell_type": "code",
   "execution_count": 10,
   "metadata": {
    "collapsed": false
   },
   "outputs": [
    {
     "data": {
      "image/png": "[encoded data removed]",
      "text/plain": [
       "<matplotlib.figure.Figure at 0x214410f0>"
      ]
     },
     "metadata": {},
     "output_type": "display_data"
    }
   ],
   "source": [
    "grp1 = jobs_df.groupby('Category')['SalaryNormalized'].mean()\n",
    "my_plot1 = grp1.plot(kind='bar',title=\"Average Salaries in each category\",figsize=(15, 13))"
   ]
  },
  {
   "cell_type": "markdown",
   "metadata": {},
   "source": [
    "#### Created a bar chart for number of jobs in each category"
   ]
  },
  {
   "cell_type": "code",
   "execution_count": 12,
   "metadata": {
    "collapsed": false
   },
   "outputs": [
    {
     "data": {
      "image/png": "[encoded data removed]",
      "text/plain": [
       "<matplotlib.figure.Figure at 0x21771eb8>"
      ]
     },
     "metadata": {},
     "output_type": "display_data"
    }
   ],
   "source": [
    "grp2 = jobs_df.groupby('Category')['Id'].count()\n",
    "my_plot2 = grp2.plot(kind='bar',title=\"Number of Jobs in each category\",figsize=(15, 13))"
   ]
  },
  {
   "cell_type": "markdown",
   "metadata": {},
   "source": [
    "#### The below code parses through the job titles and  creates a new feature on the base of Seniority "
   ]
  },
  {
   "cell_type": "code",
   "execution_count": 13,
   "metadata": {
    "collapsed": true
   },
   "outputs": [],
   "source": [
    "def estimate_seniority(job_title):\n",
    "    # Estimates the seniority of a job\n",
    "    # based on key words in the job title text\n",
    "\n",
    "    # Input\n",
    "    # job_title: input text\n",
    "\n",
    "    # Output\n",
    "    # seniority: 'junior', 'default', or 'senior'\n",
    "\n",
    "    seniority = 'default'\n",
    "    jobtitlewords = str(job_title).lower().split()\n",
    "\n",
    "    # ignore internships\n",
    "    if (('intern' in jobtitlewords)\n",
    "        or ('internship' in jobtitlewords)):\n",
    "        return 'INTERN'\n",
    "\n",
    "    senior_words = ['sr',\n",
    "                    'senior',\n",
    "                    'lead',\n",
    "                    'principal',\n",
    "                    'director',\n",
    "                    'manager',\n",
    "                    'cto',\n",
    "                    'chief',\n",
    "                    'vp',\n",
    "                    'head'\n",
    "                    ]\n",
    "\n",
    "    junior_words = ['jr',\n",
    "                    'junior',\n",
    "                    'associate',\n",
    "                    'assistant'\n",
    "                    ]\n",
    "\n",
    "    for titleword in jobtitlewords:\n",
    "        titleword = titleword.replace(',', '')\n",
    "        titleword = titleword.replace('.', '')\n",
    "\n",
    "        if titleword in senior_words:\n",
    "            seniority = 'senior'\n",
    "            break\n",
    "        elif titleword in junior_words:\n",
    "            seniority = 'junior'\n",
    "            break\n",
    "\n",
    "    return seniority\n",
    "    "
   ]
  },
  {
   "cell_type": "code",
   "execution_count": 14,
   "metadata": {
    "collapsed": false
   },
   "outputs": [],
   "source": [
    "jobs_df['job_level'] = jobs_df['Title'].apply(lambda x: estimate_seniority(x))"
   ]
  },
  {
   "cell_type": "markdown",
   "metadata": {},
   "source": [
    "#### Created a barchart for number of jobs vs job levels as per above function"
   ]
  },
  {
   "cell_type": "code",
   "execution_count": 16,
   "metadata": {
    "collapsed": false,
    "scrolled": true
   },
   "outputs": [
    {
     "data": {
      "image/png": "[encoded data removed]",
      "text/plain": [
       "<matplotlib.figure.Figure at 0x21b678d0>"
      ]
     },
     "metadata": {},
     "output_type": "display_data"
    }
   ],
   "source": [
    "grp3 = jobs_df.groupby('job_level')['Id'].count()\n",
    "my_plot3 = grp3.plot(kind='bar',title=\"Number of Jobs in each job level\")"
   ]
  },
  {
   "cell_type": "markdown",
   "metadata": {},
   "source": [
    "#### Created a barchart for average salary for different job levels"
   ]
  },
  {
   "cell_type": "code",
   "execution_count": 18,
   "metadata": {
    "collapsed": false,
    "scrolled": true
   },
   "outputs": [
    {
     "data": {
      "image/png": "[encoded data removed]",
      "text/plain": [
       "<matplotlib.figure.Figure at 0x222202e8>"
      ]
     },
     "metadata": {},
     "output_type": "display_data"
    }
   ],
   "source": [
    "grp4 = jobs_df.groupby('job_level')['SalaryNormalized'].mean()\n",
    "my_plot4 = grp4.plot(kind='bar',title=\"Avg Salary in each job level\")"
   ]
  },
  {
   "cell_type": "markdown",
   "metadata": {},
   "source": [
    "#### Created a feature based on whether location is London or not"
   ]
  },
  {
   "cell_type": "code",
   "execution_count": 21,
   "metadata": {
    "collapsed": false
   },
   "outputs": [],
   "source": [
    "jobs_df['london'] = 0\n",
    "def london(row):\n",
    "    location = row['LocationNormalized']\n",
    "    if location.lower() == 'london':\n",
    "        return 1\n",
    "    else:\n",
    "        return 0\n",
    "jobs_df['london'] = jobs_df.apply(london, axis=1)"
   ]
  },
  {
   "cell_type": "code",
   "execution_count": 22,
   "metadata": {
    "collapsed": false,
    "scrolled": true
   },
   "outputs": [
    {
     "data": {
      "image/png": "[encoded data removed]",
      "text/plain": [
       "<matplotlib.figure.Figure at 0x2282e630>"
      ]
     },
     "metadata": {},
     "output_type": "display_data"
    }
   ],
   "source": [
    "grp5 = jobs_df.groupby('london')['Id'].count()\n",
    "my_plot5 = grp5.plot(kind='bar',title=\"Number of Jobs in london\")"
   ]
  },
  {
   "cell_type": "code",
   "execution_count": 23,
   "metadata": {
    "collapsed": false
   },
   "outputs": [
    {
     "data": {
      "image/png": "[encoded data removed]",
      "text/plain": [
       "<matplotlib.figure.Figure at 0x22220128>"
      ]
     },
     "metadata": {},
     "output_type": "display_data"
    }
   ],
   "source": [
    "grp6 = jobs_df.groupby('london')['SalaryNormalized'].mean()\n",
    "my_plot6 = grp6.plot(kind='bar',title=\"Avg Salary in london\")"
   ]
  },
  {
   "cell_type": "markdown",
   "metadata": {},
   "source": [
    "### Natural Language Processing\n",
    "#### Calculated term frequencies in job description and calculated tf-idf for job titles\n",
    "#### Stemming, Remove Stop Words, Tokenize\n",
    "#### Identified top words based on salary distribution"
   ]
  },
  {
   "cell_type": "code",
   "execution_count": 31,
   "metadata": {
    "collapsed": true
   },
   "outputs": [],
   "source": [
    "from nltk.tokenize import WhitespaceTokenizer\n",
    "from CleanTokenize import CleanAndTokenize\n",
    "from nltk.corpus import stopwords\n",
    "import nltk.tag, nltk.util, nltk.stem\n",
    "from textblob import TextBlob as tb\n",
    "import math\n",
    "from collections import Counter\n",
    "\n",
    "stopword_list = stopwords.words('english')\n",
    "porter = nltk.PorterStemmer()"
   ]
  },
  {
   "cell_type": "code",
   "execution_count": 32,
   "metadata": {
    "collapsed": true
   },
   "outputs": [],
   "source": [
    "def cleanText(comment_text):\n",
    "    comment_stemmed_tokens = []\n",
    "    comment_features = {}\n",
    "    try:\n",
    "        token_list = CleanAndTokenize(comment_text)\n",
    "    except:\n",
    "        if isinstance(comment_text,basestring):\n",
    "            token_list = comment_text.split()\n",
    "        else:\n",
    "            token_list = []\n",
    "    token_list = [word for word in token_list if word not in stopword_list]\n",
    "    comment_stemmed_tokens.extend([porter.stem(token) for token in token_list])\n",
    "    cleaned_Text = ' '.join(comment_stemmed_tokens)\n",
    "    return cleaned_Text"
   ]
  },
  {
   "cell_type": "code",
   "execution_count": 33,
   "metadata": {
    "collapsed": false
   },
   "outputs": [],
   "source": [
    "jobs_df['textTokens'] = jobs_df['FullDescription'].apply(lambda x: cleanText(x))\n",
    "jobs_df['titleTokens'] = jobs_df['Title'].apply(lambda x: cleanText(x))"
   ]
  },
  {
   "cell_type": "code",
   "execution_count": 34,
   "metadata": {
    "collapsed": false
   },
   "outputs": [
    {
     "data": {
      "text/html": [
       "<div>\n",
       "<table border=\"1\" class=\"dataframe\">\n",
       "  <thead>\n",
       "    <tr style=\"text-align: right;\">\n",
       "      <th></th>\n",
       "      <th>Salary_Range</th>\n",
       "      <th>titleTokens</th>\n",
       "    </tr>\n",
       "  </thead>\n",
       "  <tbody>\n",
       "    <tr>\n",
       "      <th>0</th>\n",
       "      <td>20001-27500</td>\n",
       "      <td>engin system analystpioneer miser engin system...</td>\n",
       "    </tr>\n",
       "    <tr>\n",
       "      <th>1</th>\n",
       "      <td>27500-37500</td>\n",
       "      <td>stress engin glasgowmodel simul analystengin s...</td>\n",
       "    </tr>\n",
       "    <tr>\n",
       "      <th>2</th>\n",
       "      <td>37500-60000</td>\n",
       "      <td>project engin pharmaceutprincip composit stres...</td>\n",
       "    </tr>\n",
       "  </tbody>\n",
       "</table>\n",
       "</div>"
      ],
      "text/plain": [
       "  Salary_Range                                        titleTokens\n",
       "0  20001-27500  engin system analystpioneer miser engin system...\n",
       "1  27500-37500  stress engin glasgowmodel simul analystengin s...\n",
       "2  37500-60000  project engin pharmaceutprincip composit stres..."
      ]
     },
     "execution_count": 34,
     "metadata": {},
     "output_type": "execute_result"
    }
   ],
   "source": [
    "JobTitle = jobs_df.groupby('Salary_Range').agg({'titleTokens': 'sum'}).reset_index()\n",
    "JobDesc = jobs_df.groupby('Salary_Range').agg({'textTokens': 'sum'}).reset_index()\n",
    "JobTitle.head(n=3)"
   ]
  },
  {
   "cell_type": "code",
   "execution_count": 35,
   "metadata": {
    "collapsed": true
   },
   "outputs": [],
   "source": [
    "title_dict = dict()\n",
    "for index, row in JobTitle.iterrows():\n",
    "    Salary_Range = row['Salary_Range']  \n",
    "    title_dict[Salary_Range] = tb(row['titleTokens'])\n",
    "    \n",
    "text_dict = dict()\n",
    "for index, row in JobDesc.iterrows():\n",
    "    Salary_Range = row['Salary_Range']  \n",
    "    text_dict[Salary_Range] = tb(row['textTokens'])"
   ]
  },
  {
   "cell_type": "code",
   "execution_count": null,
   "metadata": {
    "collapsed": false
   },
   "outputs": [],
   "source": [
    "bloblist = title_dict.values()\n",
    "Job_Freq2 = []\n",
    "for sal_range, blob in title_dict.items():\n",
    "    print(\"Top words in salary range {}\".format(sal_range))\n",
    "    scores = {word: tfidf(word, blob, bloblist) for word in blob.words}\n",
    "    sorted_words = sorted(scores.items(), key=lambda x: x[1], reverse=True)\n",
    "    temp_list = []\n",
    "    for word, score in sorted_words[:5]:\n",
    "        print(\"\\tWord: {}, TF-IDF: {}\".format(word.encode('utf-8'), round(score, 5)))\n",
    "        temp_list.append(word)\n",
    "        row = [word,score,sal_range]\n",
    "        Job_Freq2.append(row)\n",
    "\n",
    "Job_Freq2_df = pd.DataFrame(Job_Freq2)\n",
    "Job_Freq2_df.columns = ['word','tf-idf score','Salary_Range']\n",
    "Job_Freq2_df.to_csv('Job_Freq2.csv')"
   ]
  },
  {
   "cell_type": "code",
   "execution_count": 37,
   "metadata": {
    "collapsed": true
   },
   "outputs": [],
   "source": [
    "Text_freq = dict()\n",
    "Job_Freq = []\n",
    "for index, row in JobDesc.iterrows():\n",
    "    \n",
    "    Salary_Range = row['Salary_Range']\n",
    "    final_text = row['textTokens']\n",
    "    frequent_words = Counter(final_text.split()).most_common()[:30]\n",
    "    temp_list = []\n",
    "    \n",
    "    for word,count in frequent_words:\n",
    "        temp_list.append(word)\n",
    "        row = [word,count,Salary_Range]\n",
    "        Job_Freq.append(row)\n",
    "    Text_freq[Salary_Range] = temp_list\n",
    "    \n",
    "\n",
    "\n",
    "Job_Freq_df = pd.DataFrame(Job_Freq)\n",
    "Job_Freq_df.columns = ['word','count','Salary_Range']\n",
    "Job_Freq_df.to_csv('Job_Freq.csv')"
   ]
  },
  {
   "cell_type": "markdown",
   "metadata": {},
   "source": [
    "#### Dividing the training data set into 2 one for training and another  for validation "
   ]
  },
  {
   "cell_type": "code",
   "execution_count": 38,
   "metadata": {
    "collapsed": false
   },
   "outputs": [
    {
     "name": "stdout",
     "output_type": "stream",
     "text": [
      "8074\n",
      "1926\n"
     ]
    }
   ],
   "source": [
    "msk = np.random.rand(len(jobs_df)) < 0.799\n",
    "\n",
    "train = jobs_df[msk]\n",
    "test = jobs_df[~msk]\n",
    "print len(train)\n",
    "print len(test)"
   ]
  },
  {
   "cell_type": "code",
   "execution_count": 39,
   "metadata": {
    "collapsed": false,
    "scrolled": true
   },
   "outputs": [],
   "source": [
    "train = train.drop('titleTokens', 1)\n",
    "train = train.drop('textTokens', 1)"
   ]
  },
  {
   "cell_type": "code",
   "execution_count": 40,
   "metadata": {
    "collapsed": false
   },
   "outputs": [],
   "source": [
    "test = test.drop('titleTokens', 1)\n",
    "test = test.drop('textTokens', 1)"
   ]
  },
  {
   "cell_type": "code",
   "execution_count": 41,
   "metadata": {
    "collapsed": false
   },
   "outputs": [],
   "source": [
    "train.to_csv('train-cedited.csv')\n",
    "test.to_csv('test-cedited.csv')"
   ]
  },
  {
   "cell_type": "markdown",
   "metadata": {},
   "source": [
    "### Creating/loading mapper and transform functions"
   ]
  },
  {
   "cell_type": "code",
   "execution_count": 195,
   "metadata": {
    "collapsed": true
   },
   "outputs": [],
   "source": [
    "import sklearn\n",
    "from sklearn.base import BaseEstimator\n",
    "from HTMLParser import HTMLParser\n",
    "\n",
    "class FeatureMapper:\n",
    "    def __init__(self, features,new_features):\n",
    "        self.features = features\n",
    "        self.new_features = new_features\n",
    "\n",
    "    def fit(self, X, y=None):\n",
    "        print \"fit\"\n",
    "        for feature_name, column_name, extractor in self.features:\n",
    "            print \"fit\"\n",
    "            extractor.fit(X[column_name], y)\n",
    "\n",
    "\n",
    "\n",
    "    def transform(self, X):\n",
    "        extracted = []\n",
    "        for feature_name, column_name, extractor in self.features:\n",
    "            fea = extractor.transform(X[column_name])\n",
    "            if hasattr(fea, \"toarray\"):\n",
    "                extracted.append(fea.toarray())\n",
    "            else:\n",
    "                extracted.append(fea)\n",
    "        print \"transform\"\n",
    "        if len(extracted) > 1:\n",
    "            array_final_test = np.concatenate(extracted, axis=1)\n",
    "        else:\n",
    "            array_final_test = extracted[0]\n",
    "\n",
    "        test_df = pd.read_csv('test-cedited.csv')\n",
    "        combined_features_test = array_final_test\n",
    "        for feature in self.new_features:\n",
    "            dummy_test = pd.get_dummies(test_df[feature], prefix=feature)\n",
    "            features_test = dummy_test.values\n",
    "            combined_features_test = np.concatenate((combined_features_test,features_test),axis=1)\n",
    "        return combined_features_test\n",
    "\n",
    "    def fit_transform(self, X, y=None):\n",
    "        extracted = []\n",
    "        for feature_name, column_name, extractor in self.features:\n",
    "            fea = extractor.fit_transform(X[column_name], y)\n",
    "            if hasattr(fea, \"toarray\"):\n",
    "                extracted.append(fea.toarray())\n",
    "            else:\n",
    "                extracted.append(fea)\n",
    "        print \"fit_transform\"\n",
    "\n",
    "        if len(extracted) > 1:\n",
    "            array_final_train = np.concatenate(extracted, axis=1)\n",
    "        else:\n",
    "            array_final_train = extracted[0]\n",
    "\n",
    "        train_df = pd.read_csv('train-cedited.csv')\n",
    "        combined_features_train = array_final_train\n",
    "        for feature in self.new_features:\n",
    "            dummy_train = pd.get_dummies(train_df[feature], prefix=feature)\n",
    "            features_train = dummy_train.values\n",
    "            combined_features_train = np.concatenate((combined_features_train,features_train),axis=1)\n",
    "            \n",
    "        return combined_features_train\n",
    "\n",
    "def identity(x):\n",
    "    return x\n",
    "\n",
    "class SimpleTransform(BaseEstimator):\n",
    "    def __init__(self, transformer=identity):\n",
    "        self.transformer = transformer\n",
    "\n",
    "    def fit(self, X, y=None):\n",
    "        return self\n",
    "\n",
    "    def fit_transform(self, X, y=None):\n",
    "        return self.transform(X)\n",
    "\n",
    "    def transform(self, X, y=None):\n",
    "        return np.array([self.transformer(x) for x in X], ndmin=2).T\n"
   ]
  },
  {
   "cell_type": "markdown",
   "metadata": {},
   "source": [
    "#### Define feature extractor"
   ]
  },
  {
   "cell_type": "code",
   "execution_count": 198,
   "metadata": {
    "collapsed": true
   },
   "outputs": [],
   "source": [
    "train_df = pd.read_csv('train-cedited.csv')\n",
    "\n",
    "def feature_extractor(new_features):\n",
    "    features = [('FullDescription-Bag of Words', 'FullDescription', CountVectorizer(max_features=100)),\n",
    "                ('Title-Bag of Words', 'Title', CountVectorizer(max_features=100)),\n",
    "                ('LocationRaw-Bag of Words', 'LocationRaw', CountVectorizer(max_features=100)),\n",
    "                ('LocationNormalized-Bag of Words', 'LocationNormalized', CountVectorizer(max_features=100))]\n",
    "    \n",
    "    combined = FeatureMapper(features,new_features)\n",
    "    return combined\n"
   ]
  },
  {
   "cell_type": "markdown",
   "metadata": {},
   "source": [
    "#### Train the dataset with the extracted features"
   ]
  },
  {
   "cell_type": "code",
   "execution_count": 199,
   "metadata": {
    "collapsed": true
   },
   "outputs": [],
   "source": [
    "def main(new_features):\n",
    "    print(\"Reading in the training data\")\n",
    "    train = data_io.get_train_df()\n",
    "\n",
    "    print(\"Extracting features and training model\")\n",
    "    classifier = get_pipeline(new_features)\n",
    "    classifier.fit(train, train[\"SalaryNormalized\"])\n",
    "\n",
    "    print(\"Saving the classifier\")\n",
    "    data_io.save_model(classifier)"
   ]
  },
  {
   "cell_type": "markdown",
   "metadata": {},
   "source": [
    "#### Function defined for Prediction"
   ]
  },
  {
   "cell_type": "code",
   "execution_count": 202,
   "metadata": {
    "collapsed": true
   },
   "outputs": [],
   "source": [
    "def predict():\n",
    "    print(\"Loading the classifier\")\n",
    "    classifier = data_io.load_model()\n",
    "    \n",
    "    print(\"Making predictions\") \n",
    "    valid = data_io.get_valid_df()\n",
    "    predictions = classifier.predict(valid)   \n",
    "    predictions = predictions.reshape(len(predictions), 1)\n",
    "\n",
    "    print(\"Writing predictions to file\")\n",
    "    data_io.write_submission(predictions)\n",
    "\n",
    "    predicted_df = pd.read_csv('random_forest_benchmark_rev1.csv')\n",
    "    predicted_df.columns = ['Id','SalaryPredicted']\n",
    "\n",
    "    test_df = pd.read_csv('test-cedited.csv')\n",
    "\n",
    "    test_df = test_df[['Id','SalaryNormalized']]\n",
    "\n",
    "    final_df = pd.merge(test_df, predicted_df, how='inner', on=['Id'])\n",
    "    print final_df.head()\n",
    "\n",
    "\n",
    "    y_true = final_df['SalaryNormalized']\n",
    "    y_pred = final_df['SalaryPredicted']\n",
    "    mae = mean_absolute_error(y_true,y_pred)\n",
    "    mse = mean_squared_error(y_true,y_pred)\n",
    "    print mae\n",
    "    print mse"
   ]
  },
  {
   "cell_type": "markdown",
   "metadata": {},
   "source": [
    "### Random Forest Regressor"
   ]
  },
  {
   "cell_type": "code",
   "execution_count": 200,
   "metadata": {
    "collapsed": false
   },
   "outputs": [],
   "source": [
    "def get_pipeline(new_features):\n",
    "    features = feature_extractor(new_features)\n",
    "    steps = [(\"extract_features\", features),\n",
    "             (\"classify\", RandomForestRegressor(n_estimators=50,\n",
    "                                                verbose=2,\n",
    "                                                n_jobs=1,\n",
    "                                                min_samples_split=30,\n",
    "                                                random_state=3465343))]\n",
    "    return Pipeline(steps)\n"
   ]
  },
  {
   "cell_type": "markdown",
   "metadata": {},
   "source": [
    "#### Running Train and Predict for Random Forest Regressor. \n",
    "#### \n",
    "#### Feature Set: Bag of Words (job title, description, location normalized, location raw)"
   ]
  },
  {
   "cell_type": "code",
   "execution_count": 210,
   "metadata": {
    "collapsed": false
   },
   "outputs": [
    {
     "name": "stdout",
     "output_type": "stream",
     "text": [
      "Reading in the training data\n",
      "Extracting features and training model\n",
      "fit_transform\n",
      "building tree 1 of 50\n",
      "building tree 2 of 50\n",
      "building tree 3 of 50\n",
      "building tree 4 of 50\n",
      "building tree 5 of 50\n",
      "building tree 6 of 50\n",
      "building tree 7 of 50\n",
      "building tree 8 of 50\n",
      "building tree 9 of 50\n",
      "building tree 10 of 50\n",
      "building tree 11 of 50\n",
      "building tree 12 of 50\n",
      "building tree 13 of 50\n",
      "building tree 14 of 50\n",
      "building tree 15 of 50\n",
      "building tree 16 of 50\n",
      "building tree 17 of 50\n",
      "building tree 18 of 50\n",
      "building tree 19 of 50\n",
      "building tree 20 of 50\n",
      "building tree 21 of 50\n",
      "building tree 22 of 50\n",
      "building tree 23 of 50\n",
      "building tree 24 of 50\n",
      "building tree 25 of 50\n",
      "building tree 26 of 50\n",
      "building tree 27 of 50\n",
      "building tree 28 of 50\n",
      "building tree 29 of 50\n",
      "building tree 30 of 50\n",
      "building tree 31 of 50\n",
      "building tree 32 of 50\n",
      "building tree 33 of 50\n",
      "building tree 34 of 50\n",
      "building tree 35 of 50\n",
      "building tree 36 of 50\n",
      "building tree 37 of 50\n",
      "building tree 38 of 50\n",
      "building tree 39 of 50\n",
      "building tree 40 of 50\n",
      "building tree 41 of 50"
     ]
    },
    {
     "name": "stderr",
     "output_type": "stream",
     "text": [
      "[Parallel(n_jobs=1)]: Done   1 jobs       | elapsed:    0.6s\n",
      "[Parallel(n_jobs=1)]: Done  41 jobs       | elapsed:   25.6s\n"
     ]
    },
    {
     "name": "stdout",
     "output_type": "stream",
     "text": [
      "\n",
      "building tree 42 of 50\n",
      "building tree 43 of 50\n",
      "building tree 44 of 50\n",
      "building tree 45 of 50\n",
      "building tree 46 of 50\n",
      "building tree 47 of 50\n",
      "building tree 48 of 50\n",
      "building tree 49 of 50\n",
      "building tree 50 of 50\n",
      "Saving the classifier\n",
      "Loading the classifier\n",
      "Making predictions\n",
      "transform"
     ]
    },
    {
     "name": "stderr",
     "output_type": "stream",
     "text": [
      "[Parallel(n_jobs=1)]: Done  50 out of  50 | elapsed:   31.0s finished\n",
      "[Parallel(n_jobs=1)]: Done   1 jobs       | elapsed:    0.0s\n"
     ]
    },
    {
     "name": "stdout",
     "output_type": "stream",
     "text": [
      "\n",
      "Writing predictions to file\n",
      "         Id  SalaryNormalized  SalaryPredicted\n",
      "0  12612628             25000     37518.652883\n",
      "1  12613049             27500     39230.265682\n",
      "2  13179816             25000     36118.656937\n",
      "3  19047429             21000     22222.216077\n",
      "4  22579462             22000     31095.541277\n",
      "7676.68021449\n",
      "140702497.386\n"
     ]
    },
    {
     "name": "stderr",
     "output_type": "stream",
     "text": [
      "[Parallel(n_jobs=1)]: Done  41 jobs       | elapsed:    0.0s\n",
      "[Parallel(n_jobs=1)]: Done  50 out of  50 | elapsed:    0.0s finished\n"
     ]
    }
   ],
   "source": [
    "new_features = []\n",
    "main(new_features)\n",
    "predict()"
   ]
  },
  {
   "cell_type": "markdown",
   "metadata": {},
   "source": [
    "#### Feature Set: Bag of Words (job title, description, location normalized, location raw) + Category"
   ]
  },
  {
   "cell_type": "code",
   "execution_count": 211,
   "metadata": {
    "collapsed": false
   },
   "outputs": [
    {
     "name": "stdout",
     "output_type": "stream",
     "text": [
      "Reading in the training data\n",
      "Extracting features and training model\n",
      "fit_transform\n",
      "building tree 1 of 50\n",
      "building tree 2 of 50\n",
      "building tree 3 of 50\n",
      "building tree 4 of 50\n",
      "building tree 5 of 50\n",
      "building tree 6 of 50\n",
      "building tree 7 of 50\n",
      "building tree 8 of 50\n",
      "building tree 9 of 50\n",
      "building tree 10 of 50\n",
      "building tree 11 of 50\n",
      "building tree 12 of 50\n",
      "building tree 13 of 50\n",
      "building tree 14 of 50\n",
      "building tree 15 of 50\n",
      "building tree 16 of 50\n",
      "building tree 17 of 50\n",
      "building tree 18 of 50\n",
      "building tree 19 of 50\n",
      "building tree 20 of 50\n",
      "building tree 21 of 50\n",
      "building tree 22 of 50\n",
      "building tree 23 of 50\n",
      "building tree 24 of 50\n",
      "building tree 25 of 50\n",
      "building tree 26 of 50\n",
      "building tree 27 of 50\n",
      "building tree 28 of 50\n",
      "building tree 29 of 50\n",
      "building tree 30 of 50\n",
      "building tree 31 of 50\n",
      "building tree 32 of 50\n",
      "building tree 33 of 50\n",
      "building tree 34 of 50\n",
      "building tree 35 of 50\n",
      "building tree 36 of 50\n",
      "building tree 37 of 50\n",
      "building tree 38 of 50\n",
      "building tree 39 of 50\n",
      "building tree 40 of 50\n",
      "building tree 41 of 50"
     ]
    },
    {
     "name": "stderr",
     "output_type": "stream",
     "text": [
      "[Parallel(n_jobs=1)]: Done   1 jobs       | elapsed:    0.7s\n",
      "[Parallel(n_jobs=1)]: Done  41 jobs       | elapsed:   29.3s\n"
     ]
    },
    {
     "name": "stdout",
     "output_type": "stream",
     "text": [
      "\n",
      "building tree 42 of 50\n",
      "building tree 43 of 50\n",
      "building tree 44 of 50\n",
      "building tree 45 of 50\n",
      "building tree 46 of 50\n",
      "building tree 47 of 50\n",
      "building tree 48 of 50\n",
      "building tree 49 of 50\n",
      "building tree 50 of 50\n",
      "Saving the classifier\n",
      "Loading the classifier\n",
      "Making predictions\n",
      "transform"
     ]
    },
    {
     "name": "stderr",
     "output_type": "stream",
     "text": [
      "[Parallel(n_jobs=1)]: Done  50 out of  50 | elapsed:   35.4s finished\n",
      "[Parallel(n_jobs=1)]: Done   1 jobs       | elapsed:    0.0s\n"
     ]
    },
    {
     "name": "stdout",
     "output_type": "stream",
     "text": [
      "\n",
      "Writing predictions to file\n",
      "         Id  SalaryNormalized  SalaryPredicted\n",
      "0  12612628             25000     24991.393824\n",
      "1  12613049             27500     27097.553972\n",
      "2  13179816             25000     30959.769720\n",
      "3  19047429             21000     25599.363771\n",
      "4  22579462             22000     30278.540138\n",
      "7217.2139415\n",
      "126894567.268\n"
     ]
    },
    {
     "name": "stderr",
     "output_type": "stream",
     "text": [
      "[Parallel(n_jobs=1)]: Done  41 jobs       | elapsed:    0.0s\n",
      "[Parallel(n_jobs=1)]: Done  50 out of  50 | elapsed:    0.0s finished\n"
     ]
    }
   ],
   "source": [
    "new_features = ['Category']\n",
    "main(new_features)\n",
    "predict()"
   ]
  },
  {
   "cell_type": "markdown",
   "metadata": {},
   "source": [
    "#### Feature Set: Bag of Words (job title, description, location normalized, location raw) +  Category + ContractTime + ContractType"
   ]
  },
  {
   "cell_type": "code",
   "execution_count": 212,
   "metadata": {
    "collapsed": false
   },
   "outputs": [
    {
     "name": "stdout",
     "output_type": "stream",
     "text": [
      "Reading in the training data\n",
      "Extracting features and training model\n",
      "fit_transform\n",
      "building tree 1 of 50\n",
      "building tree 2 of 50\n",
      "building tree 3 of 50\n",
      "building tree 4 of 50\n",
      "building tree 5 of 50\n",
      "building tree 6 of 50\n",
      "building tree 7 of 50\n",
      "building tree 8 of 50\n",
      "building tree 9 of 50\n",
      "building tree 10 of 50\n",
      "building tree 11 of 50\n",
      "building tree 12 of 50\n",
      "building tree 13 of 50\n",
      "building tree 14 of 50\n",
      "building tree 15 of 50\n",
      "building tree 16 of 50\n",
      "building tree 17 of 50\n",
      "building tree 18 of 50\n",
      "building tree 19 of 50\n",
      "building tree 20 of 50\n",
      "building tree 21 of 50\n",
      "building tree 22 of 50\n",
      "building tree 23 of 50\n",
      "building tree 24 of 50\n",
      "building tree 25 of 50\n",
      "building tree 26 of 50\n",
      "building tree 27 of 50\n",
      "building tree 28 of 50\n",
      "building tree 29 of 50\n",
      "building tree 30 of 50\n",
      "building tree 31 of 50\n",
      "building tree 32 of 50\n",
      "building tree 33 of 50\n",
      "building tree 34 of 50\n",
      "building tree 35 of 50\n",
      "building tree 36 of 50\n",
      "building tree 37 of 50\n",
      "building tree 38 of 50\n",
      "building tree 39 of 50\n",
      "building tree 40 of 50\n",
      "building tree 41 of 50"
     ]
    },
    {
     "name": "stderr",
     "output_type": "stream",
     "text": [
      "[Parallel(n_jobs=1)]: Done   1 jobs       | elapsed:    0.6s\n",
      "[Parallel(n_jobs=1)]: Done  41 jobs       | elapsed:   26.3s\n"
     ]
    },
    {
     "name": "stdout",
     "output_type": "stream",
     "text": [
      "\n",
      "building tree 42 of 50\n",
      "building tree 43 of 50\n",
      "building tree 44 of 50\n",
      "building tree 45 of 50\n",
      "building tree 46 of 50\n",
      "building tree 47 of 50\n",
      "building tree 48 of 50\n",
      "building tree 49 of 50\n",
      "building tree 50 of 50\n",
      "Saving the classifier\n",
      "Loading the classifier\n",
      "Making predictions\n",
      "transform"
     ]
    },
    {
     "name": "stderr",
     "output_type": "stream",
     "text": [
      "[Parallel(n_jobs=1)]: Done  50 out of  50 | elapsed:   32.1s finished\n",
      "[Parallel(n_jobs=1)]: Done   1 jobs       | elapsed:    0.0s\n"
     ]
    },
    {
     "name": "stdout",
     "output_type": "stream",
     "text": [
      "\n",
      "Writing predictions to file\n",
      "         Id  SalaryNormalized  SalaryPredicted\n",
      "0  12612628             25000     25468.458245\n",
      "1  12613049             27500     27142.757336\n",
      "2  13179816             25000     30928.761651\n",
      "3  19047429             21000     26032.924759\n",
      "4  22579462             22000     29564.107235\n",
      "7020.73451065\n",
      "116391748.006\n"
     ]
    },
    {
     "name": "stderr",
     "output_type": "stream",
     "text": [
      "[Parallel(n_jobs=1)]: Done  41 jobs       | elapsed:    0.0s\n",
      "[Parallel(n_jobs=1)]: Done  50 out of  50 | elapsed:    0.0s finished\n"
     ]
    }
   ],
   "source": [
    "new_features = ['Category','ContractTime','ContractType']\n",
    "main(new_features)\n",
    "predict()"
   ]
  },
  {
   "cell_type": "markdown",
   "metadata": {},
   "source": [
    "### Lasso Linear Regression"
   ]
  },
  {
   "cell_type": "code",
   "execution_count": 215,
   "metadata": {
    "collapsed": true
   },
   "outputs": [],
   "source": [
    "def get_pipeline(new_features):\n",
    "    features = feature_extractor(new_features)\n",
    "    steps = [(\"extract_features\", features),\n",
    "             (\"classify\", linear_model.Lasso(alpha=0.1))]\n",
    "    return Pipeline(steps)"
   ]
  },
  {
   "cell_type": "markdown",
   "metadata": {},
   "source": [
    "#### Running Train and Predict for Lasso Linear Regressor. \n",
    "#### \n",
    "#### Feature Set: Bag of Words (job title, description, location normalized, location raw) +  Category + ContractTime + ContractType"
   ]
  },
  {
   "cell_type": "code",
   "execution_count": 216,
   "metadata": {
    "collapsed": false
   },
   "outputs": [
    {
     "name": "stdout",
     "output_type": "stream",
     "text": [
      "Reading in the training data\n",
      "Extracting features and training model\n",
      "fit_transform\n",
      "Saving the classifier\n",
      "Loading the classifier\n",
      "Making predictions\n",
      "transform\n",
      "Writing predictions to file\n",
      "         Id  SalaryNormalized  SalaryPredicted\n",
      "0  12612628             25000     23904.306762\n",
      "1  12613049             27500     34701.611094\n",
      "2  13179816             25000     22806.716260\n",
      "3  19047429             21000     31937.072880\n",
      "4  22579462             22000     33328.429120\n",
      "8331.12225276\n",
      "140811465.738\n"
     ]
    }
   ],
   "source": [
    "new_features = ['Category','ContractTime','ContractType']\n",
    "main(new_features)\n",
    "predict()"
   ]
  },
  {
   "cell_type": "markdown",
   "metadata": {},
   "source": [
    "### Decision Tree Regressor"
   ]
  },
  {
   "cell_type": "code",
   "execution_count": 217,
   "metadata": {
    "collapsed": true
   },
   "outputs": [],
   "source": [
    "def get_pipeline(new_features):\n",
    "    features = feature_extractor(new_features)\n",
    "    steps = [(\"extract_features\", features),\n",
    "             (\"classify\", tree.DecisionTreeRegressor())]\n",
    "    return Pipeline(steps)"
   ]
  },
  {
   "cell_type": "markdown",
   "metadata": {},
   "source": [
    "#### Running Train and Predict for - Decision Tree Regressor\n",
    "#### Feature Set: Bag of Words (job title, description, location normalized, location raw) +  Category + ContractTime + ContractType"
   ]
  },
  {
   "cell_type": "code",
   "execution_count": 218,
   "metadata": {
    "collapsed": false
   },
   "outputs": [
    {
     "name": "stdout",
     "output_type": "stream",
     "text": [
      "Reading in the training data\n",
      "Extracting features and training model\n",
      "fit_transform\n",
      "Saving the classifier\n",
      "Loading the classifier\n",
      "Making predictions\n",
      "transform\n",
      "Writing predictions to file\n",
      "         Id  SalaryNormalized  SalaryPredicted\n",
      "0  12612628             25000            25000\n",
      "1  12613049             27500            25000\n",
      "2  13179816             25000            62400\n",
      "3  19047429             21000            15000\n",
      "4  22579462             22000            25000\n",
      "9137.6853989\n",
      "226152471.304\n"
     ]
    }
   ],
   "source": [
    "new_features = ['Category','ContractTime','ContractType']\n",
    "main(new_features)\n",
    "predict()"
   ]
  },
  {
   "cell_type": "markdown",
   "metadata": {},
   "source": [
    "###  Extra Trees Regressor"
   ]
  },
  {
   "cell_type": "code",
   "execution_count": 219,
   "metadata": {
    "collapsed": true
   },
   "outputs": [],
   "source": [
    "def get_pipeline(new_features):\n",
    "    features = feature_extractor(new_features)\n",
    "    steps = [(\"extract_features\", features),\n",
    "             (\"classify\", ExtraTreesRegressor(n_estimators=100,\n",
    "                                                verbose=2,\n",
    "                                                n_jobs=1,\n",
    "                                                min_samples_split=30,\n",
    "                                                random_state=3465343))]\n",
    "    return Pipeline(steps)"
   ]
  },
  {
   "cell_type": "markdown",
   "metadata": {},
   "source": [
    "#### Running Train and Predict for - Extra Trees Regressor\n",
    "#### Feature Set: Bag of Words (job title, description, location normalized, location raw) +  Category + ContractTime + ContractType"
   ]
  },
  {
   "cell_type": "code",
   "execution_count": 220,
   "metadata": {
    "collapsed": false
   },
   "outputs": [
    {
     "name": "stdout",
     "output_type": "stream",
     "text": [
      "Reading in the training data\n",
      "Extracting features and training model\n",
      "fit_transform\n",
      "building tree 1 of 100\n",
      "building tree 2 of 100\n",
      "building tree 3 of 100\n",
      "building tree 4 of 100\n",
      "building tree 5 of 100\n",
      "building tree 6 of 100\n",
      "building tree 7 of 100\n",
      "building tree 8 of 100\n",
      "building tree 9 of 100\n",
      "building tree 10 of 100\n",
      "building tree 11 of 100\n",
      "building tree 12 of 100\n",
      "building tree 13 of 100\n",
      "building tree 14 of 100\n",
      "building tree 15 of 100\n",
      "building tree 16 of 100\n",
      "building tree 17 of 100\n",
      "building tree 18 of 100\n",
      "building tree 19 of 100\n",
      "building tree 20 of 100\n",
      "building tree 21 of 100\n",
      "building tree 22 of 100\n",
      "building tree 23 of 100\n",
      "building tree 24 of 100\n",
      "building tree 25 of 100\n",
      "building tree 26 of 100\n",
      "building tree 27 of 100\n",
      "building tree 28 of 100\n",
      "building tree 29 of 100\n",
      "building tree 30 of 100\n",
      "building tree 31 of 100\n",
      "building tree 32 of 100\n",
      "building tree 33 of 100\n",
      "building tree 34 of 100\n",
      "building tree 35 of 100\n",
      "building tree 36 of 100\n",
      "building tree 37 of 100\n",
      "building tree 38 of 100\n",
      "building tree 39 of 100\n",
      "building tree 40 of 100\n",
      "building tree 41 of 100"
     ]
    },
    {
     "name": "stderr",
     "output_type": "stream",
     "text": [
      "[Parallel(n_jobs=1)]: Done   1 jobs       | elapsed:    0.8s\n",
      "[Parallel(n_jobs=1)]: Done  41 jobs       | elapsed:   33.4s\n"
     ]
    },
    {
     "name": "stdout",
     "output_type": "stream",
     "text": [
      "\n",
      "building tree 42 of 100\n",
      "building tree 43 of 100\n",
      "building tree 44 of 100\n",
      "building tree 45 of 100\n",
      "building tree 46 of 100\n",
      "building tree 47 of 100\n",
      "building tree 48 of 100\n",
      "building tree 49 of 100\n",
      "building tree 50 of 100\n",
      "building tree 51 of 100\n",
      "building tree 52 of 100\n",
      "building tree 53 of 100\n",
      "building tree 54 of 100\n",
      "building tree 55 of 100\n",
      "building tree 56 of 100\n",
      "building tree 57 of 100\n",
      "building tree 58 of 100\n",
      "building tree 59 of 100\n",
      "building tree 60 of 100\n",
      "building tree 61 of 100\n",
      "building tree 62 of 100\n",
      "building tree 63 of 100\n",
      "building tree 64 of 100\n",
      "building tree 65 of 100\n",
      "building tree 66 of 100\n",
      "building tree 67 of 100\n",
      "building tree 68 of 100\n",
      "building tree 69 of 100\n",
      "building tree 70 of 100\n",
      "building tree 71 of 100\n",
      "building tree 72 of 100\n",
      "building tree 73 of 100\n",
      "building tree 74 of 100\n",
      "building tree 75 of 100\n",
      "building tree 76 of 100\n",
      "building tree 77 of 100\n",
      "building tree 78 of 100\n",
      "building tree 79 of 100\n",
      "building tree 80 of 100\n",
      "building tree 81 of 100\n",
      "building tree 82 of 100\n",
      "building tree 83 of 100\n",
      "building tree 84 of 100\n",
      "building tree 85 of 100\n",
      "building tree 86 of 100\n",
      "building tree 87 of 100\n",
      "building tree 88 of 100\n",
      "building tree 89 of 100\n",
      "building tree 90 of 100\n",
      "building tree 91 of 100\n",
      "building tree 92 of 100\n",
      "building tree 93 of 100\n",
      "building tree 94 of 100\n",
      "building tree 95 of 100\n",
      "building tree 96 of 100\n",
      "building tree 97 of 100\n",
      "building tree 98 of 100\n",
      "building tree 99 of 100\n",
      "building tree 100 of 100\n",
      "Saving the classifier\n",
      "Loading the classifier\n",
      "Making predictions\n",
      "transform"
     ]
    },
    {
     "name": "stderr",
     "output_type": "stream",
     "text": [
      "[Parallel(n_jobs=1)]: Done 100 out of 100 | elapsed:  1.4min finished\n",
      "[Parallel(n_jobs=1)]: Done   1 jobs       | elapsed:    0.0s\n"
     ]
    },
    {
     "name": "stdout",
     "output_type": "stream",
     "text": [
      "\n",
      "Writing predictions to file\n",
      "         Id  SalaryNormalized  SalaryPredicted\n",
      "0  12612628             25000     25554.864769\n",
      "1  12613049             27500     26726.768578\n",
      "2  13179816             25000     29576.220615\n",
      "3  19047429             21000     24248.998301\n",
      "4  22579462             22000     30732.169255\n",
      "6839.54784603\n",
      "113095634.498\n"
     ]
    },
    {
     "name": "stderr",
     "output_type": "stream",
     "text": [
      "[Parallel(n_jobs=1)]: Done  41 jobs       | elapsed:    0.0s\n",
      "[Parallel(n_jobs=1)]: Done 100 out of 100 | elapsed:    0.1s finished\n"
     ]
    }
   ],
   "source": [
    "new_features = ['Category','ContractTime','ContractType']\n",
    "main(new_features)\n",
    "predict()"
   ]
  },
  {
   "cell_type": "markdown",
   "metadata": {},
   "source": [
    "### Starting with Classifiers"
   ]
  },
  {
   "cell_type": "code",
   "execution_count": 224,
   "metadata": {
    "collapsed": true
   },
   "outputs": [],
   "source": [
    "def main_classifier(new_features):\n",
    "    print(\"Reading in the training data\")\n",
    "    train = data_io.get_train_df()\n",
    "\n",
    "    print(\"Extracting features and training model\")\n",
    "    classifier = get_pipeline_classifier(new_features)\n",
    "    classifier.fit(train, train[\"Salary_Range\"])\n",
    "\n",
    "    print(\"Saving the classifier\")\n",
    "    data_io.save_model(classifier)\n",
    "    \n",
    "def predict_classifier():\n",
    "    print(\"Loading the classifier\")\n",
    "    classifier = data_io.load_model()\n",
    "    \n",
    "    print(\"Making predictions\") \n",
    "    valid = data_io.get_valid_df()\n",
    "    predictions = classifier.predict(valid)   \n",
    "\n",
    "    print(\"Writing predictions to file\")\n",
    "    data_io.write_submission(predictions)\n",
    "\n",
    "\n",
    "    predicted_df = pd.read_csv('random_forest_benchmark_rev1.csv')\n",
    "    predicted_df.columns = ['Id','SalaryPredicted']\n",
    "\n",
    "    test_df = pd.read_csv('test-cedited.csv')\n",
    "\n",
    "    test_df = test_df[['Id','Salary_Range']]\n",
    "\n",
    "    final_df = pd.merge(test_df, predicted_df, how='inner', on=['Id'])\n",
    "    print final_df.head()\n",
    "\n",
    "\n",
    "    y_true = final_df['Salary_Range']\n",
    "    y_pred = final_df['SalaryPredicted']\n",
    "\n",
    "    acc_score = accuracy_score(y_true,y_pred)\n",
    "    con_matrix = confusion_matrix(y_true,y_pred)\n",
    "    report = classification_report(y_true,y_pred)\n",
    "    print acc_score\n",
    "    print con_matrix\n",
    "    print report\n",
    "    \n",
    "    \n",
    "# Normalize the confusion matrix by row (i.e by the number of samples\n",
    "# in each class)\n",
    "    cm_normalized = con_matrix.astype('float') / con_matrix.sum(axis=1)[:, np.newaxis]\n",
    "    print('Normalized confusion matrix')\n",
    "    print(cm_normalized)\n"
   ]
  },
  {
   "cell_type": "markdown",
   "metadata": {},
   "source": [
    "### Random Forest Classifier"
   ]
  },
  {
   "cell_type": "code",
   "execution_count": 227,
   "metadata": {
    "collapsed": true
   },
   "outputs": [],
   "source": [
    "def get_pipeline_classifier(new_features):\n",
    "    features = feature_extractor(new_features)\n",
    "    steps = [(\"extract_features\", features),\n",
    "             (\"classify\", RandomForestClassifier(n_estimators=100,\n",
    "                                                verbose=2,\n",
    "                                                n_jobs=1,\n",
    "                                                min_samples_split=30,\n",
    "                                                random_state=3465343))]\n",
    "    return Pipeline(steps)"
   ]
  },
  {
   "cell_type": "markdown",
   "metadata": {},
   "source": [
    "#### Running Train and Predict for - Random Forest Classifier. \n",
    "#### Feature Set: Bag of Words (job title, description, location normalized, location raw)"
   ]
  },
  {
   "cell_type": "code",
   "execution_count": 228,
   "metadata": {
    "collapsed": false
   },
   "outputs": [
    {
     "name": "stdout",
     "output_type": "stream",
     "text": [
      "Reading in the training data\n",
      "Extracting features and training model\n",
      "fit_transform\n",
      "building tree 1 of 100\n",
      "building tree 2 of 100\n",
      "building tree 3 of 100\n",
      "building tree 4 of 100\n",
      "building tree 5 of 100\n",
      "building tree 6 of 100\n",
      "building tree 7 of 100\n",
      "building tree 8 of 100\n",
      "building tree 9 of 100\n",
      "building tree 10 of 100\n",
      "building tree 11 of 100\n",
      "building tree 12 of 100\n",
      "building tree 13 of 100\n",
      "building tree 14 of 100\n",
      "building tree 15 of 100\n",
      "building tree 16 of 100\n",
      "building tree 17 of 100\n",
      "building tree 18 of 100\n",
      "building tree 19 of 100\n",
      "building tree 20 of 100\n",
      "building tree 21 of 100\n",
      "building tree 22 of 100\n",
      "building tree 23 of 100\n",
      "building tree 24 of 100\n",
      "building tree 25 of 100\n",
      "building tree 26 of 100\n",
      "building tree 27 of 100\n",
      "building tree 28 of 100\n",
      "building tree 29 of 100\n",
      "building tree 30 of 100\n",
      "building tree 31 of 100\n",
      "building tree 32 of 100\n",
      "building tree 33 of 100\n",
      "building tree 34 of 100\n",
      "building tree 35 of 100\n",
      "building tree 36 of 100\n",
      "building tree 37 of 100\n",
      "building tree 38 of 100\n",
      "building tree 39 of 100\n",
      "building tree 40 of 100"
     ]
    },
    {
     "name": "stderr",
     "output_type": "stream",
     "text": [
      "[Parallel(n_jobs=1)]: Done   1 jobs       | elapsed:    0.0s\n",
      "[Parallel(n_jobs=1)]: Done  41 jobs       | elapsed:    1.4s\n"
     ]
    },
    {
     "name": "stdout",
     "output_type": "stream",
     "text": [
      "\n",
      "building tree 41 of 100\n",
      "building tree 42 of 100\n",
      "building tree 43 of 100\n",
      "building tree 44 of 100\n",
      "building tree 45 of 100\n",
      "building tree 46 of 100\n",
      "building tree 47 of 100\n",
      "building tree 48 of 100\n",
      "building tree 49 of 100\n",
      "building tree 50 of 100\n",
      "building tree 51 of 100\n",
      "building tree 52 of 100\n",
      "building tree 53 of 100\n",
      "building tree 54 of 100\n",
      "building tree 55 of 100\n",
      "building tree 56 of 100\n",
      "building tree 57 of 100\n",
      "building tree 58 of 100\n",
      "building tree 59 of 100\n",
      "building tree 60 of 100\n",
      "building tree 61 of 100\n",
      "building tree 62 of 100\n",
      "building tree 63 of 100\n",
      "building tree 64 of 100\n",
      "building tree 65 of 100\n",
      "building tree 66 of 100\n",
      "building tree 67 of 100\n",
      "building tree 68 of 100\n",
      "building tree 69 of 100\n",
      "building tree 70 of 100\n",
      "building tree 71 of 100\n",
      "building tree 72 of 100\n",
      "building tree 73 of 100\n",
      "building tree 74 of 100\n",
      "building tree 75 of 100\n",
      "building tree 76 of 100\n",
      "building tree 77 of 100\n",
      "building tree 78 of 100\n",
      "building tree 79 of 100\n",
      "building tree 80 of 100\n",
      "building tree 81 of 100\n",
      "building tree 82 of 100\n",
      "building tree 83 of 100\n",
      "building tree 84 of 100\n",
      "building tree 85 of 100\n",
      "building tree 86 of 100\n",
      "building tree 87 of 100\n",
      "building tree 88 of 100\n",
      "building tree 89 of 100\n",
      "building tree 90 of 100\n",
      "building tree 91 of 100\n",
      "building tree 92 of 100\n",
      "building tree 93 of 100\n",
      "building tree 94 of 100\n",
      "building tree 95 of 100\n",
      "building tree 96 of 100\n",
      "building tree 97 of 100\n",
      "building tree 98 of 100\n",
      "building tree 99 of 100\n",
      "building tree 100 of 100\n",
      "Saving the classifier\n",
      "Loading the classifier\n",
      "Making predictions\n",
      "transform"
     ]
    },
    {
     "name": "stderr",
     "output_type": "stream",
     "text": [
      "[Parallel(n_jobs=1)]: Done 100 out of 100 | elapsed:    3.5s finished\n",
      "[Parallel(n_jobs=1)]: Done   1 jobs       | elapsed:    0.0s\n"
     ]
    },
    {
     "name": "stdout",
     "output_type": "stream",
     "text": [
      "\n",
      "Writing predictions to file\n",
      "         Id Salary_Range SalaryPredicted\n",
      "0  12612628  20001-27500     20001-27500\n",
      "1  12613049  27500-37500     20001-27500\n",
      "2  13179816  20001-27500     37500-60000\n",
      "3  19047429  20001-27500          <20000\n",
      "4  22579462  20001-27500     27500-37500\n",
      "0.570998494732\n",
      "[[299 117  56   0  94]\n",
      " [100 250 102   0  36]\n",
      " [ 28 106 229   0  27]\n",
      " [  6  27  70  17  11]\n",
      " [ 46  21   8   0 343]]\n",
      "             precision    recall  f1-score   support\n",
      "\n",
      "20001-27500       0.62      0.53      0.57       566\n",
      "27500-37500       0.48      0.51      0.50       488\n",
      "37500-60000       0.49      0.59      0.54       390\n",
      "     60000+       1.00      0.13      0.23       131\n",
      "     <20000       0.67      0.82      0.74       418\n",
      "\n",
      "avg / total       0.60      0.57      0.56      1993\n",
      "\n",
      "Normalized confusion matrix\n",
      "[[ 0.53  0.21  0.1   0.    0.17]\n",
      " [ 0.2   0.51  0.21  0.    0.07]\n",
      " [ 0.07  0.27  0.59  0.    0.07]\n",
      " [ 0.05  0.21  0.53  0.13  0.08]\n",
      " [ 0.11  0.05  0.02  0.    0.82]]\n"
     ]
    },
    {
     "name": "stderr",
     "output_type": "stream",
     "text": [
      "[Parallel(n_jobs=1)]: Done  41 jobs       | elapsed:    0.0s\n",
      "[Parallel(n_jobs=1)]: Done 100 out of 100 | elapsed:    0.1s finished\n"
     ]
    }
   ],
   "source": [
    "new_features = []\n",
    "main_classifier(new_features)\n",
    "predict_classifier()"
   ]
  },
  {
   "cell_type": "markdown",
   "metadata": {},
   "source": [
    "#### Feature Set: Bag of Words (job title, description, location normalized, location raw) +  Category + ContractTime + ContractType"
   ]
  },
  {
   "cell_type": "code",
   "execution_count": 229,
   "metadata": {
    "collapsed": false
   },
   "outputs": [
    {
     "name": "stdout",
     "output_type": "stream",
     "text": [
      "Reading in the training data\n",
      "Extracting features and training model\n",
      "fit_transform\n",
      "building tree 1 of 100\n",
      "building tree 2 of 100\n",
      "building tree 3 of 100\n",
      "building tree 4 of 100\n",
      "building tree 5 of 100\n",
      "building tree 6 of 100\n",
      "building tree 7 of 100\n",
      "building tree 8 of 100\n",
      "building tree 9 of 100\n",
      "building tree 10 of 100\n",
      "building tree 11 of 100\n",
      "building tree 12 of 100\n",
      "building tree 13 of 100\n",
      "building tree 14 of 100\n",
      "building tree 15 of 100\n",
      "building tree 16 of 100\n",
      "building tree 17 of 100\n",
      "building tree 18 of 100\n",
      "building tree 19 of 100\n",
      "building tree 20 of 100\n",
      "building tree 21 of 100\n",
      "building tree 22 of 100\n",
      "building tree 23 of 100\n",
      "building tree 24 of 100\n",
      "building tree 25 of 100\n",
      "building tree 26 of 100\n",
      "building tree 27 of 100\n",
      "building tree 28 of 100\n",
      "building tree 29 of 100\n",
      "building tree 30 of 100\n",
      "building tree 31 of 100\n",
      "building tree 32 of 100\n",
      "building tree 33 of 100\n",
      "building tree 34 of 100\n",
      "building tree 35 of 100\n",
      "building tree 36 of 100\n",
      "building tree 37 of 100\n",
      "building tree 38 of 100\n",
      "building tree 39 of 100\n",
      "building tree 40 of 100\n",
      "building tree 41 of 100"
     ]
    },
    {
     "name": "stderr",
     "output_type": "stream",
     "text": [
      "[Parallel(n_jobs=1)]: Done   1 jobs       | elapsed:    0.0s\n",
      "[Parallel(n_jobs=1)]: Done  41 jobs       | elapsed:    1.5s\n"
     ]
    },
    {
     "name": "stdout",
     "output_type": "stream",
     "text": [
      "\n",
      "building tree 42 of 100\n",
      "building tree 43 of 100\n",
      "building tree 44 of 100\n",
      "building tree 45 of 100\n",
      "building tree 46 of 100\n",
      "building tree 47 of 100\n",
      "building tree 48 of 100\n",
      "building tree 49 of 100\n",
      "building tree 50 of 100\n",
      "building tree 51 of 100\n",
      "building tree 52 of 100\n",
      "building tree 53 of 100\n",
      "building tree 54 of 100\n",
      "building tree 55 of 100\n",
      "building tree 56 of 100\n",
      "building tree 57 of 100\n",
      "building tree 58 of 100\n",
      "building tree 59 of 100\n",
      "building tree 60 of 100\n",
      "building tree 61 of 100\n",
      "building tree 62 of 100\n",
      "building tree 63 of 100\n",
      "building tree 64 of 100\n",
      "building tree 65 of 100\n",
      "building tree 66 of 100\n",
      "building tree 67 of 100\n",
      "building tree 68 of 100\n",
      "building tree 69 of 100\n",
      "building tree 70 of 100\n",
      "building tree 71 of 100\n",
      "building tree 72 of 100\n",
      "building tree 73 of 100\n",
      "building tree 74 of 100\n",
      "building tree 75 of 100\n",
      "building tree 76 of 100\n",
      "building tree 77 of 100\n",
      "building tree 78 of 100\n",
      "building tree 79 of 100\n",
      "building tree 80 of 100\n",
      "building tree 81 of 100\n",
      "building tree 82 of 100\n",
      "building tree 83 of 100\n",
      "building tree 84 of 100\n",
      "building tree 85 of 100\n",
      "building tree 86 of 100\n",
      "building tree 87 of 100\n",
      "building tree 88 of 100\n",
      "building tree 89 of 100\n",
      "building tree 90 of 100\n",
      "building tree 91 of 100\n",
      "building tree 92 of 100\n",
      "building tree 93 of 100\n",
      "building tree 94 of 100\n",
      "building tree 95 of 100\n",
      "building tree 96 of 100\n",
      "building tree 97 of 100\n",
      "building tree 98 of 100\n",
      "building tree 99 of 100\n",
      "building tree 100 of 100\n",
      "Saving the classifier\n",
      "Loading the classifier\n",
      "Making predictions\n",
      "transform"
     ]
    },
    {
     "name": "stderr",
     "output_type": "stream",
     "text": [
      "[Parallel(n_jobs=1)]: Done 100 out of 100 | elapsed:    3.5s finished\n",
      "[Parallel(n_jobs=1)]: Done   1 jobs       | elapsed:    0.0s\n"
     ]
    },
    {
     "name": "stdout",
     "output_type": "stream",
     "text": [
      "\n",
      "Writing predictions to file\n",
      "         Id Salary_Range SalaryPredicted\n",
      "0  12612628  20001-27500     20001-27500\n",
      "1  12613049  27500-37500     20001-27500\n",
      "2  13179816  20001-27500     27500-37500\n",
      "3  19047429  20001-27500     20001-27500\n",
      "4  22579462  20001-27500     27500-37500\n",
      "0.582037129955\n",
      "[[298 109  64   0  95]\n",
      " [ 95 260 103   0  30]\n",
      " [ 34  92 237   5  22]\n",
      " [  6  15  75  26   9]\n",
      " [ 53  21   5   0 339]]\n",
      "             precision    recall  f1-score   support\n",
      "\n",
      "20001-27500       0.61      0.53      0.57       566\n",
      "27500-37500       0.52      0.53      0.53       488\n",
      "37500-60000       0.49      0.61      0.54       390\n",
      "     60000+       0.84      0.20      0.32       131\n",
      "     <20000       0.68      0.81      0.74       418\n",
      "\n",
      "avg / total       0.60      0.58      0.57      1993\n",
      "\n",
      "Normalized confusion matrix\n",
      "[[ 0.53  0.19  0.11  0.    0.17]\n",
      " [ 0.19  0.53  0.21  0.    0.06]\n",
      " [ 0.09  0.24  0.61  0.01  0.06]\n",
      " [ 0.05  0.11  0.57  0.2   0.07]\n",
      " [ 0.13  0.05  0.01  0.    0.81]]\n"
     ]
    },
    {
     "name": "stderr",
     "output_type": "stream",
     "text": [
      "[Parallel(n_jobs=1)]: Done  41 jobs       | elapsed:    0.0s\n",
      "[Parallel(n_jobs=1)]: Done 100 out of 100 | elapsed:    0.1s finished\n"
     ]
    }
   ],
   "source": [
    "new_features = ['Category','ContractTime','ContractType']\n",
    "main_classifier(new_features)\n",
    "predict_classifier()"
   ]
  },
  {
   "cell_type": "markdown",
   "metadata": {},
   "source": [
    "#### Feature Set: Bag of Words (job title, description, location normalized, location raw) +  Category + ContractTime + ContractType + Seniority + London"
   ]
  },
  {
   "cell_type": "code",
   "execution_count": 230,
   "metadata": {
    "collapsed": false
   },
   "outputs": [
    {
     "name": "stdout",
     "output_type": "stream",
     "text": [
      "Reading in the training data\n",
      "Extracting features and training model\n",
      "fit_transform\n",
      "building tree 1 of 100\n",
      "building tree 2 of 100\n",
      "building tree 3 of 100\n",
      "building tree 4 of 100\n",
      "building tree 5 of 100\n",
      "building tree 6 of 100\n",
      "building tree 7 of 100\n",
      "building tree 8 of 100\n",
      "building tree 9 of 100\n",
      "building tree 10 of 100\n",
      "building tree 11 of 100\n",
      "building tree 12 of 100\n",
      "building tree 13 of 100\n",
      "building tree 14 of 100\n",
      "building tree 15 of 100\n",
      "building tree 16 of 100\n",
      "building tree 17 of 100\n",
      "building tree 18 of 100\n",
      "building tree 19 of 100\n",
      "building tree 20 of 100\n",
      "building tree 21 of 100\n",
      "building tree 22 of 100\n",
      "building tree 23 of 100\n",
      "building tree 24 of 100\n",
      "building tree 25 of 100\n",
      "building tree 26 of 100\n",
      "building tree 27 of 100\n",
      "building tree 28 of 100\n",
      "building tree 29 of 100\n",
      "building tree 30 of 100\n",
      "building tree 31 of 100\n",
      "building tree 32 of 100\n",
      "building tree 33 of 100\n",
      "building tree 34 of 100\n",
      "building tree 35 of 100\n",
      "building tree 36 of 100\n",
      "building tree 37 of 100\n",
      "building tree 38 of 100\n",
      "building tree 39 of 100\n",
      "building tree 40 of 100\n",
      "building tree 41 of 100"
     ]
    },
    {
     "name": "stderr",
     "output_type": "stream",
     "text": [
      "[Parallel(n_jobs=1)]: Done   1 jobs       | elapsed:    0.0s\n",
      "[Parallel(n_jobs=1)]: Done  41 jobs       | elapsed:    1.4s\n"
     ]
    },
    {
     "name": "stdout",
     "output_type": "stream",
     "text": [
      "\n",
      "building tree 42 of 100\n",
      "building tree 43 of 100\n",
      "building tree 44 of 100\n",
      "building tree 45 of 100\n",
      "building tree 46 of 100\n",
      "building tree 47 of 100\n",
      "building tree 48 of 100\n",
      "building tree 49 of 100\n",
      "building tree 50 of 100\n",
      "building tree 51 of 100\n",
      "building tree 52 of 100\n",
      "building tree 53 of 100\n",
      "building tree 54 of 100\n",
      "building tree 55 of 100\n",
      "building tree 56 of 100\n",
      "building tree 57 of 100\n",
      "building tree 58 of 100\n",
      "building tree 59 of 100\n",
      "building tree 60 of 100\n",
      "building tree 61 of 100\n",
      "building tree 62 of 100\n",
      "building tree 63 of 100\n",
      "building tree 64 of 100\n",
      "building tree 65 of 100\n",
      "building tree 66 of 100\n",
      "building tree 67 of 100\n",
      "building tree 68 of 100\n",
      "building tree 69 of 100\n",
      "building tree 70 of 100\n",
      "building tree 71 of 100\n",
      "building tree 72 of 100\n",
      "building tree 73 of 100\n",
      "building tree 74 of 100\n",
      "building tree 75 of 100\n",
      "building tree 76 of 100\n",
      "building tree 77 of 100\n",
      "building tree 78 of 100\n",
      "building tree 79 of 100\n",
      "building tree 80 of 100\n",
      "building tree 81 of 100\n",
      "building tree 82 of 100\n",
      "building tree 83 of 100\n",
      "building tree 84 of 100\n",
      "building tree 85 of 100\n",
      "building tree 86 of 100\n",
      "building tree 87 of 100\n",
      "building tree 88 of 100\n",
      "building tree 89 of 100\n",
      "building tree 90 of 100\n",
      "building tree 91 of 100\n",
      "building tree 92 of 100\n",
      "building tree 93 of 100\n",
      "building tree 94 of 100\n",
      "building tree 95 of 100\n",
      "building tree 96 of 100\n",
      "building tree 97 of 100\n",
      "building tree 98 of 100\n",
      "building tree 99 of 100\n",
      "building tree 100 of 100\n",
      "Saving the classifier\n",
      "Loading the classifier\n",
      "Making predictions\n",
      "transform"
     ]
    },
    {
     "name": "stderr",
     "output_type": "stream",
     "text": [
      "[Parallel(n_jobs=1)]: Done 100 out of 100 | elapsed:    3.3s finished\n",
      "[Parallel(n_jobs=1)]: Done   1 jobs       | elapsed:    0.0s\n"
     ]
    },
    {
     "name": "stdout",
     "output_type": "stream",
     "text": [
      "\n",
      "Writing predictions to file\n",
      "         Id Salary_Range SalaryPredicted\n",
      "0  12612628  20001-27500     20001-27500\n",
      "1  12613049  27500-37500     20001-27500\n",
      "2  13179816  20001-27500     27500-37500\n",
      "3  19047429  20001-27500     20001-27500\n",
      "4  22579462  20001-27500     27500-37500\n",
      "0.591068740592\n",
      "[[310 113  60   0  83]\n",
      " [ 88 273  97   0  30]\n",
      " [ 36 103 232   5  14]\n",
      " [  8  11  75  29   8]\n",
      " [ 56  23   5   0 334]]\n",
      "             precision    recall  f1-score   support\n",
      "\n",
      "20001-27500       0.62      0.55      0.58       566\n",
      "27500-37500       0.52      0.56      0.54       488\n",
      "37500-60000       0.49      0.59      0.54       390\n",
      "     60000+       0.85      0.22      0.35       131\n",
      "     <20000       0.71      0.80      0.75       418\n",
      "\n",
      "avg / total       0.61      0.59      0.58      1993\n",
      "\n",
      "Normalized confusion matrix\n",
      "[[ 0.55  0.2   0.11  0.    0.15]\n",
      " [ 0.18  0.56  0.2   0.    0.06]\n",
      " [ 0.09  0.26  0.59  0.01  0.04]\n",
      " [ 0.06  0.08  0.57  0.22  0.06]\n",
      " [ 0.13  0.06  0.01  0.    0.8 ]]\n"
     ]
    },
    {
     "name": "stderr",
     "output_type": "stream",
     "text": [
      "[Parallel(n_jobs=1)]: Done  41 jobs       | elapsed:    0.0s\n",
      "[Parallel(n_jobs=1)]: Done 100 out of 100 | elapsed:    0.1s finished\n"
     ]
    }
   ],
   "source": [
    "new_features = ['Category','ContractTime','ContractType','job_level','london']\n",
    "main_classifier(new_features)\n",
    "predict_classifier()"
   ]
  },
  {
   "cell_type": "markdown",
   "metadata": {},
   "source": [
    "### ExtraTreesClassifier"
   ]
  },
  {
   "cell_type": "code",
   "execution_count": 231,
   "metadata": {
    "collapsed": true
   },
   "outputs": [],
   "source": [
    "def get_pipeline_classifier(new_features):\n",
    "    features = feature_extractor(new_features)\n",
    "    steps = [(\"extract_features\", features),\n",
    "             (\"classify\", ExtraTreesClassifier(n_estimators=100,\n",
    "                                                verbose=2,\n",
    "                                                n_jobs=1,\n",
    "                                                min_samples_split=30,\n",
    "                                                random_state=3465343))]\n",
    "    return Pipeline(steps)"
   ]
  },
  {
   "cell_type": "markdown",
   "metadata": {},
   "source": [
    "#### Running Train and Predict for - ExtraTreesClassifier \n",
    "#### Feature Set: Bag of Words (job title, description, location normalized, location raw)  Category + ContractTime + ContractType + Seniority + London"
   ]
  },
  {
   "cell_type": "code",
   "execution_count": 232,
   "metadata": {
    "collapsed": false
   },
   "outputs": [
    {
     "name": "stdout",
     "output_type": "stream",
     "text": [
      "Reading in the training data\n",
      "Extracting features and training model\n",
      "fit_transform\n",
      "building tree 1 of 100\n",
      "building tree 2 of 100\n",
      "building tree 3 of 100\n",
      "building tree 4 of 100\n",
      "building tree 5 of 100\n",
      "building tree 6 of 100\n",
      "building tree 7 of 100\n",
      "building tree 8 of 100\n",
      "building tree 9 of 100\n",
      "building tree 10 of 100\n",
      "building tree 11 of 100\n",
      "building tree 12 of 100\n",
      "building tree 13 of 100\n",
      "building tree 14 of 100\n",
      "building tree 15 of 100\n",
      "building tree 16 of 100\n",
      "building tree 17 of 100\n",
      "building tree 18 of 100\n",
      "building tree 19 of 100\n",
      "building tree 20 of 100\n",
      "building tree 21 of 100\n",
      "building tree 22 of 100\n",
      "building tree 23 of 100\n",
      "building tree 24 of 100\n",
      "building tree 25 of 100\n",
      "building tree 26 of 100\n",
      "building tree 27 of 100\n",
      "building tree 28 of 100\n",
      "building tree 29 of 100\n",
      "building tree 30 of 100\n",
      "building tree 31 of 100\n",
      "building tree 32 of 100\n",
      "building tree 33 of 100\n",
      "building tree 34 of 100\n",
      "building tree 35 of 100\n",
      "building tree 36 of 100\n",
      "building tree 37 of 100\n",
      "building tree 38 of 100\n",
      "building tree 39 of 100\n",
      "building tree 40 of 100\n",
      "building tree 41 of 100"
     ]
    },
    {
     "name": "stderr",
     "output_type": "stream",
     "text": [
      "[Parallel(n_jobs=1)]: Done   1 jobs       | elapsed:    0.1s\n",
      "[Parallel(n_jobs=1)]: Done  41 jobs       | elapsed:    2.4s\n"
     ]
    },
    {
     "name": "stdout",
     "output_type": "stream",
     "text": [
      "\n",
      "building tree 42 of 100\n",
      "building tree 43 of 100\n",
      "building tree 44 of 100\n",
      "building tree 45 of 100\n",
      "building tree 46 of 100\n",
      "building tree 47 of 100\n",
      "building tree 48 of 100\n",
      "building tree 49 of 100\n",
      "building tree 50 of 100\n",
      "building tree 51 of 100\n",
      "building tree 52 of 100\n",
      "building tree 53 of 100\n",
      "building tree 54 of 100\n",
      "building tree 55 of 100\n",
      "building tree 56 of 100\n",
      "building tree 57 of 100\n",
      "building tree 58 of 100\n",
      "building tree 59 of 100\n",
      "building tree 60 of 100\n",
      "building tree 61 of 100\n",
      "building tree 62 of 100\n",
      "building tree 63 of 100\n",
      "building tree 64 of 100\n",
      "building tree 65 of 100\n",
      "building tree 66 of 100\n",
      "building tree 67 of 100\n",
      "building tree 68 of 100\n",
      "building tree 69 of 100\n",
      "building tree 70 of 100\n",
      "building tree 71 of 100\n",
      "building tree 72 of 100\n",
      "building tree 73 of 100\n",
      "building tree 74 of 100\n",
      "building tree 75 of 100\n",
      "building tree 76 of 100\n",
      "building tree 77 of 100\n",
      "building tree 78 of 100\n",
      "building tree 79 of 100\n",
      "building tree 80 of 100\n",
      "building tree 81 of 100\n",
      "building tree 82 of 100\n",
      "building tree 83 of 100\n",
      "building tree 84 of 100\n",
      "building tree 85 of 100\n",
      "building tree 86 of 100\n",
      "building tree 87 of 100\n",
      "building tree 88 of 100\n",
      "building tree 89 of 100\n",
      "building tree 90 of 100\n",
      "building tree 91 of 100\n",
      "building tree 92 of 100\n",
      "building tree 93 of 100\n",
      "building tree 94 of 100\n",
      "building tree 95 of 100\n",
      "building tree 96 of 100\n",
      "building tree 97 of 100\n",
      "building tree 98 of 100\n",
      "building tree 99 of 100\n",
      "building tree 100 of 100\n",
      "Saving the classifier\n",
      "Loading the classifier\n",
      "Making predictions\n",
      "transform"
     ]
    },
    {
     "name": "stderr",
     "output_type": "stream",
     "text": [
      "[Parallel(n_jobs=1)]: Done 100 out of 100 | elapsed:    5.8s finished\n",
      "[Parallel(n_jobs=1)]: Done   1 jobs       | elapsed:    0.0s\n"
     ]
    },
    {
     "name": "stdout",
     "output_type": "stream",
     "text": [
      "\n",
      "Writing predictions to file\n",
      "         Id Salary_Range SalaryPredicted\n",
      "0  12612628  20001-27500     20001-27500\n",
      "1  12613049  27500-37500     20001-27500\n",
      "2  13179816  20001-27500     27500-37500\n",
      "3  19047429  20001-27500     20001-27500\n",
      "4  22579462  20001-27500     27500-37500\n",
      "0.612644254892\n",
      "[[325 111  55   1  74]\n",
      " [ 78 283  96   3  28]\n",
      " [ 38  91 235  10  16]\n",
      " [  6  12  58  46   9]\n",
      " [ 63  20   3   0 332]]\n",
      "             precision    recall  f1-score   support\n",
      "\n",
      "20001-27500       0.64      0.57      0.60       566\n",
      "27500-37500       0.55      0.58      0.56       488\n",
      "37500-60000       0.53      0.60      0.56       390\n",
      "     60000+       0.77      0.35      0.48       131\n",
      "     <20000       0.72      0.79      0.76       418\n",
      "\n",
      "avg / total       0.62      0.61      0.61      1993\n",
      "\n",
      "Normalized confusion matrix\n",
      "[[ 0.57  0.2   0.1   0.    0.13]\n",
      " [ 0.16  0.58  0.2   0.01  0.06]\n",
      " [ 0.1   0.23  0.6   0.03  0.04]\n",
      " [ 0.05  0.09  0.44  0.35  0.07]\n",
      " [ 0.15  0.05  0.01  0.    0.79]]\n"
     ]
    },
    {
     "name": "stderr",
     "output_type": "stream",
     "text": [
      "[Parallel(n_jobs=1)]: Done  41 jobs       | elapsed:    0.1s\n",
      "[Parallel(n_jobs=1)]: Done 100 out of 100 | elapsed:    0.1s finished\n"
     ]
    }
   ],
   "source": [
    "new_features = ['Category','ContractTime','ContractType','job_level','london']\n",
    "main_classifier(new_features)\n",
    "predict_classifier()"
   ]
  },
  {
   "cell_type": "markdown",
   "metadata": {},
   "source": [
    "### SVM - SVC"
   ]
  },
  {
   "cell_type": "code",
   "execution_count": 233,
   "metadata": {
    "collapsed": true
   },
   "outputs": [],
   "source": [
    "def get_pipeline_classifier(new_features):\n",
    "    features = feature_extractor(new_features)\n",
    "    steps = [(\"extract_features\", features),\n",
    "             (\"classify\", SVC())]\n",
    "    return Pipeline(steps)"
   ]
  },
  {
   "cell_type": "markdown",
   "metadata": {},
   "source": [
    "#### Running Train and Predict for - SVM - SVC \n",
    "#### Feature Set: Bag of Words (job title, description, location normalized, location raw)  Category + ContractTime + ContractType + Seniority + London"
   ]
  },
  {
   "cell_type": "code",
   "execution_count": 234,
   "metadata": {
    "collapsed": false
   },
   "outputs": [
    {
     "name": "stdout",
     "output_type": "stream",
     "text": [
      "Reading in the training data\n",
      "Extracting features and training model\n",
      "fit_transform\n",
      "Saving the classifier\n",
      "Loading the classifier\n",
      "Making predictions\n",
      "transform\n",
      "Writing predictions to file\n",
      "         Id Salary_Range SalaryPredicted\n",
      "0  12612628  20001-27500          <20000\n",
      "1  12613049  27500-37500     20001-27500\n",
      "2  13179816  20001-27500     27500-37500\n",
      "3  19047429  20001-27500     20001-27500\n",
      "4  22579462  20001-27500     20001-27500\n",
      "0.533366783743\n",
      "[[311 113  52   1  89]\n",
      " [120 234 102   0  32]\n",
      " [ 40 129 196   0  25]\n",
      " [  8  29  67  15  12]\n",
      " [ 69  32  10   0 307]]\n",
      "             precision    recall  f1-score   support\n",
      "\n",
      "20001-27500       0.57      0.55      0.56       566\n",
      "27500-37500       0.44      0.48      0.46       488\n",
      "37500-60000       0.46      0.50      0.48       390\n",
      "     60000+       0.94      0.11      0.20       131\n",
      "     <20000       0.66      0.73      0.70       418\n",
      "\n",
      "avg / total       0.56      0.53      0.52      1993\n",
      "\n",
      "Normalized confusion matrix\n",
      "[[ 0.55  0.2   0.09  0.    0.16]\n",
      " [ 0.25  0.48  0.21  0.    0.07]\n",
      " [ 0.1   0.33  0.5   0.    0.06]\n",
      " [ 0.06  0.22  0.51  0.11  0.09]\n",
      " [ 0.17  0.08  0.02  0.    0.73]]\n"
     ]
    }
   ],
   "source": [
    "new_features = ['Category','ContractTime','ContractType','job_level','london']\n",
    "main_classifier(new_features)\n",
    "predict_classifier()"
   ]
  },
  {
   "cell_type": "markdown",
   "metadata": {},
   "source": [
    "### Naive Bayes"
   ]
  },
  {
   "cell_type": "code",
   "execution_count": 235,
   "metadata": {
    "collapsed": true
   },
   "outputs": [],
   "source": [
    "def get_pipeline_classifier(new_features):\n",
    "    features = feature_extractor(new_features)\n",
    "    steps = [(\"extract_features\", features),\n",
    "             (\"classify\", MultinomialNB())]\n",
    "    return Pipeline(steps)"
   ]
  },
  {
   "cell_type": "markdown",
   "metadata": {},
   "source": [
    "#### Running Train and Predict for - Naive Bayes\n",
    "#### Feature Set: Bag of Words (job title, description, location normalized, location raw)  Category + ContractTime + ContractType + Seniority + London"
   ]
  },
  {
   "cell_type": "code",
   "execution_count": 236,
   "metadata": {
    "collapsed": false
   },
   "outputs": [
    {
     "name": "stdout",
     "output_type": "stream",
     "text": [
      "Reading in the training data\n",
      "Extracting features and training model\n",
      "fit_transform\n",
      "Saving the classifier\n",
      "Loading the classifier\n",
      "Making predictions\n",
      "transform\n",
      "Writing predictions to file\n",
      "         Id Salary_Range SalaryPredicted\n",
      "0  12612628  20001-27500     27500-37500\n",
      "1  12613049  27500-37500     37500-60000\n",
      "2  13179816  20001-27500     37500-60000\n",
      "3  19047429  20001-27500          <20000\n",
      "4  22579462  20001-27500     37500-60000\n",
      "0.458103361766\n",
      "[[240 100  71  48 107]\n",
      " [119 143 110  65  51]\n",
      " [ 40  79 140 102  29]\n",
      " [ 17   4  30  73   7]\n",
      " [ 51  29   9  12 317]]\n",
      "             precision    recall  f1-score   support\n",
      "\n",
      "20001-27500       0.51      0.42      0.46       566\n",
      "27500-37500       0.40      0.29      0.34       488\n",
      "37500-60000       0.39      0.36      0.37       390\n",
      "     60000+       0.24      0.56      0.34       131\n",
      "     <20000       0.62      0.76      0.68       418\n",
      "\n",
      "avg / total       0.47      0.46      0.45      1993\n",
      "\n",
      "Normalized confusion matrix\n",
      "[[ 0.42  0.18  0.13  0.08  0.19]\n",
      " [ 0.24  0.29  0.23  0.13  0.1 ]\n",
      " [ 0.1   0.2   0.36  0.26  0.07]\n",
      " [ 0.13  0.03  0.23  0.56  0.05]\n",
      " [ 0.12  0.07  0.02  0.03  0.76]]\n"
     ]
    }
   ],
   "source": [
    "new_features = ['Category','ContractTime','ContractType','job_level','london']\n",
    "main_classifier(new_features)\n",
    "predict_classifier()"
   ]
  }
 ],
 "metadata": {
  "kernelspec": {
   "display_name": "Python 2",
   "language": "python",
   "name": "python2"
  },
  "language_info": {
   "codemirror_mode": {
    "name": "ipython",
    "version": 2
   },
   "file_extension": ".py",
   "mimetype": "text/x-python",
   "name": "python",
   "nbconvert_exporter": "python",
   "pygments_lexer": "ipython2",
   "version": "2.7.10"
  }
 },
 "nbformat": 4,
 "nbformat_minor": 0
}
